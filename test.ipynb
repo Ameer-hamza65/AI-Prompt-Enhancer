{
 "cells": [
  {
   "cell_type": "code",
   "execution_count": 1,
   "id": "54aaaa18",
   "metadata": {},
   "outputs": [],
   "source": [
    "import os\n",
    "os.environ['GOOGLE_API_KEY']=os.getenv('GOOGLE_API_KEY')"
   ]
  },
  {
   "cell_type": "code",
   "execution_count": 2,
   "id": "da925801",
   "metadata": {},
   "outputs": [
    {
     "name": "stderr",
     "output_type": "stream",
     "text": [
      "c:\\Users\\Hamza\\anaconda3\\envs\\agent\\Lib\\site-packages\\tqdm\\auto.py:21: TqdmWarning: IProgress not found. Please update jupyter and ipywidgets. See https://ipywidgets.readthedocs.io/en/stable/user_install.html\n",
      "  from .autonotebook import tqdm as notebook_tqdm\n"
     ]
    }
   ],
   "source": [
    "from typing import TypedDict\n",
    "from langgraph.graph import StateGraph, START, END\n",
    "from langchain_groq import ChatGroq\n",
    "from langchain_google_genai import ChatGoogleGenerativeAI\n",
    "from langchain_core.messages import HumanMessage, SystemMessage"
   ]
  },
  {
   "cell_type": "code",
   "execution_count": 4,
   "id": "d262759b",
   "metadata": {},
   "outputs": [],
   "source": [
    "llm=ChatGoogleGenerativeAI(\n",
    "    model=\"gemini-2.5-flash\", \n",
    "    temperature=0.2,) "
   ]
  },
  {
   "cell_type": "code",
   "execution_count": 5,
   "id": "70ee3ed8",
   "metadata": {},
   "outputs": [
    {
     "data": {
      "text/plain": [
       "AIMessage(content=\"Elon Musk is a prominent and often controversial entrepreneur, investor, and business magnate. He holds South African, Canadian, and American citizenship.\\n\\nHe is widely known for his leadership roles in several groundbreaking technology companies:\\n\\n1.  **Tesla, Inc.:** He is the CEO and Product Architect of Tesla, an electric vehicle and clean energy company that has revolutionized the automotive industry.\\n2.  **SpaceX:** He is the founder, CEO, and Chief Engineer of SpaceX, an aerospace manufacturer and space transportation services company with the ambitious goal of making humanity multi-planetary.\\n3.  **X (formerly Twitter):** He is the owner and Executive Chairman of the social media platform X.\\n4.  **Neuralink:** He is a co-founder of Neuralink, a neurotechnology company developing brain-computer interfaces.\\n5.  **The Boring Company:** He is the founder of The Boring Company, an infrastructure and tunnel construction company.\\n\\n**Key aspects of his career and persona:**\\n\\n*   **Early Success:** Before his current ventures, Musk co-founded Zip2 (a web software company) and later X.com, which merged to become PayPal, a major online payment system. His earnings from PayPal's acquisition by eBay provided the capital for his later ventures.\\n*   **Visionary Goals:** Musk is known for his ambitious and often futuristic goals, including accelerating the world's transition to sustainable energy (Tesla), making humanity a spacefaring civilization (SpaceX), and integrating artificial intelligence with the human brain (Neuralink).\\n*   **Public Persona:** He has a highly public and often polarizing persona, known for his active presence on social media (especially X), where he frequently shares his thoughts, makes announcements, and engages in debates.\\n*   **Controversies:** His leadership style, public statements, and business decisions have often drawn both immense praise and significant criticism, including controversies related to stock market manipulation allegations, labor practices, and his handling of X/Twitter.\\n*   **Wealth:** He is frequently cited as one of the wealthiest people in the world, with his net worth fluctuating based on the performance of his companies' stocks.\\n\\nIn essence, Elon Musk is a transformative figure who has profoundly impacted the technology and business landscapes, driven by a vision of a future that often seems straight out of science fiction.\", additional_kwargs={}, response_metadata={'prompt_feedback': {'block_reason': 0, 'safety_ratings': []}, 'finish_reason': 'STOP', 'safety_ratings': []}, id='run--143a7dc3-c4e5-47dc-a12c-3dd13e77e55a-0', usage_metadata={'input_tokens': 6, 'output_tokens': 482, 'total_tokens': 1697, 'input_token_details': {'cache_read': 0}})"
      ]
     },
     "execution_count": 5,
     "metadata": {},
     "output_type": "execute_result"
    }
   ],
   "source": [
    "llm.invoke('who is elon musk')"
   ]
  },
  {
   "cell_type": "code",
   "execution_count": 6,
   "id": "25b1de6b",
   "metadata": {},
   "outputs": [],
   "source": [
    "class Prompt(TypedDict):\n",
    "    user_input: str\n",
    "    generator_output: str\n",
    "    enhancer_output: str\n",
    "    critique_output: str "
   ]
  },
  {
   "cell_type": "code",
   "execution_count": 7,
   "id": "984e0635",
   "metadata": {},
   "outputs": [],
   "source": [
    "def generate_prompt(prompt:Prompt):\n",
    "    query=prompt['user_input']\n",
    "    if not query:\n",
    "        raise ValueError(\"User input cannot be empty\")\n",
    "    messages = [\n",
    "    SystemMessage(\n",
    "    content=\"\"\"\n",
    "    ROLE: Critical Aspect Identifier\n",
    "    TASK: Extract the essential components needed to create a perfect prompt from the user's query\n",
    "    \n",
    "    DIRECTIVES:\n",
    "    1. DECONSTRUCT the query to identify:\n",
    "       - Core subject matter\n",
    "       - Required depth and specificity\n",
    "       - Implicit constraints\n",
    "       - Domain-specific requirements\n",
    "       - Unstated audience/context\n",
    "    2. IDENTIFY knowledge gaps that need addressing\n",
    "    3. MAP the query to optimal prompt structures:\n",
    "       - Comparative analysis\n",
    "       - Technical explanation\n",
    "       - Creative generation\n",
    "       - Step-by-step process\n",
    "    4. OUTPUT only the structured metadata in this format:\n",
    "       {\n",
    "         \"core_subject\": \"...\",\n",
    "         \"depth_level\": \"...\",  // beginner, intermediate, expert\n",
    "         \"constraints\": [\"...\", \"...\"],\n",
    "         \"required_components\": [\"...\", \"...\"],\n",
    "         \"output_structure\": \"...\"\n",
    "       }\n",
    "    \n",
    "    RULES:\n",
    "    - NEVER generate content or final prompts\n",
    "    - NEVER add your own interpretations beyond what's implied\n",
    "    - ALWAYS maintain original intent\n",
    "    - KEEP output machine-readable\n",
    "    \n",
    "    EXAMPLE:\n",
    "    User Query: \"Compare renewable energy sources\"\n",
    "    Output:\n",
    "    {\n",
    "      \"core_subject\": \"Renewable energy comparison\",\n",
    "      \"depth_level\": \"intermediate\",\n",
    "      \"constraints\": [\"technical accuracy\", \"balanced perspective\"],\n",
    "      \"required_components\": [\"efficiency metrics\", \"cost analysis\", \"environmental impact\", \"adoption challenges\"],\n",
    "      \"output_structure\": \"comparative analysis\"\n",
    "    }\n",
    "    \"\"\"\n",
    "),\n",
    "    HumanMessage(\n",
    "        content=query\n",
    "    )\n",
    "]\n",
    "    response = llm.invoke(messages)\n",
    "    return {\n",
    "        'generator_output': response.content,\n",
    "    }"
   ]
  },
  {
   "cell_type": "code",
   "execution_count": 8,
   "id": "de6be967",
   "metadata": {},
   "outputs": [],
   "source": [
    "def prompt_enhancer(prompt: Prompt):\n",
    "    query = prompt['generator_output']\n",
    "    if not query:\n",
    "        raise ValueError(\"Generator output cannot be empty\")\n",
    "    \n",
    "    # Fixed: Include SystemMessage in messages list\n",
    "    messages = [\n",
    "        SystemMessage(\n",
    "            content=\"\"\"\n",
    "            ROLE: Elite Prompt Architect\n",
    "            TASK: Transform extracted aspects into flawless, production-grade prompts\n",
    "            \n",
    "            PROCESSING PROTOCOL:\n",
    "            1. RECEIVE structured metadata from Aspect Extractor\n",
    "            2. APPLY advanced prompt engineering techniques:\n",
    "               - Role specialization framework\n",
    "               - Cognitive chain scaffolding\n",
    "               - Multi-stage verification systems\n",
    "               - Anti-hallucination safeguards\n",
    "            3. IMPLEMENT these enhancement layers:\n",
    "               a) Precision Engineering: Quantifiable metrics, exact format specs\n",
    "               b) Knowledge Integration: Required sources, validation methods\n",
    "               c) Structural Optimization: Step-by-step reasoning flow\n",
    "               d) Quality Assurance: Self-correction mechanisms\n",
    "            \n",
    "            4. OUTPUT REQUIREMENTS:\n",
    "               - Single executable prompt\n",
    "               - Also include meaningful emojis to enhance user engagement\n",
    "               - No explanations or metadata    \n",
    "               - Fully self-contained\n",
    "               - Token-optimized (max 300 tokens)\n",
    "            \n",
    "            CONSTRUCTION TEMPLATE:\n",
    "            \"Act as [SPECIALIZED_ROLE]. [TASK_DESCRIPTION] using [METHODOLOGY]. \n",
    "            Required: [COMPONENTS]. Structure: [OUTPUT_FORMAT]. \n",
    "            Validation: [QUALITY_CONTROLS]. Execute via: [PROCESS_FLOW].\"\n",
    "            \n",
    "            EXAMPLE TRANSFORMATION:\n",
    "            Input Metadata: {\n",
    "              \"core_subject\": \"Renewable energy comparison\",\n",
    "              \"depth_level\": \"intermediate\",\n",
    "              \"constraints\": [\"technical accuracy\", \"balanced perspective\"],\n",
    "              \"required_components\": [\"efficiency metrics\", \"cost analysis\", \"environmental impact\", \"adoption challenges\"],\n",
    "              \"output_structure\": \"comparative analysis\"\n",
    "            }\n",
    "            \n",
    "            Output Prompt:\n",
    "            \"Act as Senior Energy Analyst. Compare solar, wind, and hydro energy across efficiency metrics (LCOE calculations), installation costs (2024 USD), environmental impact (carbon footprint/lifecycle), and adoption barriers. Structure: 1) Executive summary 2) Comparative matrix 3) Regional viability analysis 4) Policy recommendations. Validate: Cross-check stats against IEA/NREL databases. Execute: Research → Analysis → Peer-review simulation → Finalize.\"\n",
    "            \"\"\"\n",
    "        ),\n",
    "        HumanMessage(\n",
    "            content=f\"Transform these extracted aspects into a production-grade prompt:\\n{query}\"\n",
    "        )\n",
    "    ]\n",
    "    \n",
    "    response = llm.invoke(messages)\n",
    "    return {\n",
    "        'enhancer_output': response.content,\n",
    "    }\n",
    "    "
   ]
  },
  {
   "cell_type": "code",
   "execution_count": 9,
   "id": "a01a2302",
   "metadata": {},
   "outputs": [],
   "source": [
    "def critique_prompt(prompt: dict):\n",
    "    query = prompt['enhancer_output']\n",
    "\n",
    "    if not query:\n",
    "        raise ValueError(\"Enhancer output cannot be empty\") \n",
    "\n",
    "    critique = llm.invoke(\n",
    "        [\n",
    "            SystemMessage(\n",
    "                content=\"\"\"\n",
    "                You are the Prompt Critique Agent. Your task is to:\n",
    "                1. Review the given enhanced prompt.\n",
    "                2. Assess its clarity, completeness, creativity, and precision.\n",
    "                3. Decide if it is 'final' (good to go) or 'regenerate' (send back to the Generator).\n",
    "\n",
    "                Rules:\n",
    "                - Respond ONLY with one of these two words:\n",
    "                  - \"end\" → The prompt is excellent and ready for use.\n",
    "                  - \"generate_prompt\" → The prompt needs major changes, missing details, or rethinking.\n",
    "\n",
    "                Be strict: only approve if the prompt is crystal clear, specific, and optimized for high-quality AI responses.\n",
    "                \"\"\"\n",
    "            ),\n",
    "            HumanMessage(content=query),\n",
    "        ]\n",
    "    )\n",
    "\n",
    "    return {\n",
    "        'critique_output': critique.content.strip()\n",
    "    }"
   ]
  },
  {
   "cell_type": "code",
   "execution_count": 10,
   "id": "95a6e3a2",
   "metadata": {},
   "outputs": [],
   "source": [
    "def routed_prompts(prompt: Prompt) -> str:\n",
    "    router=prompt['critique_output'].strip().lower() \n",
    "    if router == 'end':\n",
    "        return END\n",
    "    else:\n",
    "        return 'generate_prompt'"
   ]
  },
  {
   "cell_type": "code",
   "execution_count": 11,
   "id": "9b3c4215",
   "metadata": {},
   "outputs": [
    {
     "data": {
      "text/plain": [
       "<langgraph.graph.state.StateGraph at 0x28eeaf22290>"
      ]
     },
     "execution_count": 11,
     "metadata": {},
     "output_type": "execute_result"
    }
   ],
   "source": [
    "workflow = StateGraph(Prompt)\n",
    "workflow.add_node('generate_prompt',generate_prompt)\n",
    "workflow.add_node('prompt_enhancer', prompt_enhancer)\n",
    "workflow.add_node('critique_prompt', critique_prompt)\n",
    "\n",
    "workflow.add_edge(START, 'generate_prompt')\n",
    "workflow.add_edge('generate_prompt', 'prompt_enhancer')\n",
    "workflow.add_edge('prompt_enhancer', 'critique_prompt')\n",
    "workflow.add_conditional_edges('critique_prompt', routed_prompts,{\n",
    "        END: END,\n",
    "        'generate_prompt': 'generate_prompt'\n",
    "    })\n",
    "workflow.set_entry_point('generate_prompt')"
   ]
  },
  {
   "cell_type": "code",
   "execution_count": 12,
   "id": "07e518dc",
   "metadata": {},
   "outputs": [
    {
     "data": {
      "image/png": "[encoded data removed]",
      "text/plain": [
       "<langgraph.graph.state.CompiledStateGraph object at 0x0000028EE9956C90>"
      ]
     },
     "execution_count": 12,
     "metadata": {},
     "output_type": "execute_result"
    }
   ],
   "source": [
    "workflow.compile()"
   ]
  },
  {
   "cell_type": "code",
   "execution_count": 13,
   "id": "38faa548",
   "metadata": {},
   "outputs": [],
   "source": [
    "graph=workflow.compile()"
   ]
  },
  {
   "cell_type": "code",
   "execution_count": 14,
   "id": "6aa6d9d1",
   "metadata": {},
   "outputs": [
    {
     "data": {
      "text/plain": [
       "{'user_input': 'What is the impact of AI on modern education?',\n",
       " 'generator_output': '{\\n  \"core_subject\": \"Impact of AI on modern education\",\\n  \"depth_level\": \"intermediate\",\\n  \"constraints\": [\"balanced perspective\", \"focus on current applications and trends\", \"evidence-based discussion\"],\\n  \"required_components\": [\"changes in teaching methodologies\", \"changes in learning experiences\", \"challenges and ethical considerations\", \"future implications\"],\\n  \"output_structure\": \"explanatory analysis\"\\n}',\n",
       " 'enhancer_output': 'Act as AI in Education Researcher. 🎓 Analyze the current impact of AI on modern education, maintaining a balanced, evidence-based perspective focused on present applications and emerging trends. Required: Quantifiable shifts in teaching methodologies, transformed student learning experiences, critical challenges & ethical dilemmas, projected future implications (5-10 years). Structure: 1) Introduction 2) Current Applications & Methodological Shifts 3) Learner Experience Evolution 4) Ethical & Practical Challenges 5) Future Outlook & Recommendations 6) Conclusion. Validation: Cross-reference claims with peer-reviewed educational technology journals & reputable AI research institutions; ensure neutrality. Execute via: Literature Review → Thematic Synthesis → Argument Construction → Bias Check → Refinement. 🤖',\n",
       " 'critique_output': 'end'}"
      ]
     },
     "execution_count": 14,
     "metadata": {},
     "output_type": "execute_result"
    }
   ],
   "source": [
    "graph.invoke({\n",
    "    'user_input': 'What is the impact of AI on modern education?'\n",
    "})"
   ]
  },
  {
   "cell_type": "code",
   "execution_count": 16,
   "id": "01b72d76",
   "metadata": {},
   "outputs": [],
   "source": [
    "response=graph.invoke({\n",
    "    'user_input': 'What is the impact of AI on modern education?'\n",
    "})\n",
    "  # Access the enhancer output from the response"
   ]
  },
  {
   "cell_type": "code",
   "execution_count": 17,
   "id": "d9d9e80f",
   "metadata": {},
   "outputs": [
    {
     "data": {
      "text/plain": [
       "'Act as Senior Educational Technologist 🎓. Provide a balanced, evidence-based analytical discussion on the current impact of AI on modern education, emphasizing practical applications and emerging trends. Required: Quantify shifts in teaching methodologies and learning experiences. Detail key opportunities, inherent challenges, and specific examples of AI tools. Structure: 1) Pedagogical Shifts 2) Learner Experience Evolution 3) Benefits & Opportunities 4) Risks & Challenges 5) Concrete AI Tool Examples (e.g., adaptive platforms, intelligent tutors). Validate: Cross-reference data with recent (post-2022) reports from UNESCO, EDUCAUSE, or ISTE. Ensure neutrality and avoid speculative claims. Execute via: Current trend analysis → Impact assessment → Tool identification → Balanced synthesis → Final analytical discussion. 🤖'"
      ]
     },
     "execution_count": 17,
     "metadata": {},
     "output_type": "execute_result"
    }
   ],
   "source": [
    "response['enhancer_output']"
   ]
  },
  {
   "cell_type": "code",
   "execution_count": null,
   "id": "79e12b70",
   "metadata": {},
   "outputs": [],
   "source": []
  }
 ],
 "metadata": {
  "kernelspec": {
   "display_name": "agent",
   "language": "python",
   "name": "python3"
  },
  "language_info": {
   "codemirror_mode": {
    "name": "ipython",
    "version": 3
   },
   "file_extension": ".py",
   "mimetype": "text/x-python",
   "name": "python",
   "nbconvert_exporter": "python",
   "pygments_lexer": "ipython3",
   "version": "3.11.11"
  }
 },
 "nbformat": 4,
 "nbformat_minor": 5
}
